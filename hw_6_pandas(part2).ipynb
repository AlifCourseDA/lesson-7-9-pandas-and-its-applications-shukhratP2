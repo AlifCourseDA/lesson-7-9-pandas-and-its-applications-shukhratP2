{
 "cells": [
  {
   "attachments": {
    "image-2.png": {
     "image/png": "[encoded data removed]"
    }
   },
   "cell_type": "markdown",
   "id": "72604ce5",
   "metadata": {
    "slideshow": {
     "slide_type": "slide"
    }
   },
   "source": [
    "![image-2.png](attachment:image-2.png)"
   ]
  },
  {
   "cell_type": "markdown",
   "id": "00dd6fb6",
   "metadata": {
    "slideshow": {
     "slide_type": "fragment"
    }
   },
   "source": [
    "# Модуль 1.1: Python для аналитиков\n",
    "\n",
    "### Домашнее задание\n",
    "\n",
    "P.S первую часть домашнего задания вы можете найти в файле с занятия\n",
    "\n",
    "**Дедлайн**: 13 января 23:59"
   ]
  },
  {
   "cell_type": "markdown",
   "id": "94fa6a1f",
   "metadata": {},
   "source": [
    "### **Задание №2**\n",
    "\n",
    "- Загрузите [датасет](https://disk.yandex.ru/d/20P4PUpwkigr2g) transaction_data.csv. Проверьте размер таблицы, типы переменных, число пропущенных значений и описательную статистику.\n",
    "- Сколько в датасете пропущенных значений?\n",
    "- Какие значения находятся в колонке transaction? Сколько наблюдений относятся к тому или иному уровню? Визуализируйте результат с помощью барплота. Подумайте, как можно улучшить график.\n",
    "- Сколько транзакций завершились ошибкой?\n",
    "- Сколько успешных транзакций осуществил каждый из пользователей? Постройте гистограмму распределения числа успешных транзакций.\n",
    "- Коллега прислал Вам обновленные [данные](https://yadi.sk/d/NtNP5zY0qU4ZAw). Постройте сводную таблицу user_vs_minute_pivot, где в качестве столбцов будут использованы имена пользователей, строк – минуты, значений – число совершенных операций в указанную минуту. Пропущенные значения заполните нулями.\n",
    "- Изучите представленный график. Помогите коллеге разобраться,  есть ли в данных ошибка, или же всё хорошо.\n",
    "- Если в данные закралась ошибка, исправьте её и сохраните правильное число минут, прошедших с начала дня, в колонку true_minute.\n",
    "\n",
    "\n",
    "### Описание данных\n",
    "\n",
    "Имеются следующие данные:\n",
    "\n",
    "date – дата (2020-03-02 00:00:00 – 2020-03-02 01:29:05)\n",
    "\n",
    "name – имя пользователя\n",
    "\n",
    "transaction – статус транзакции\n",
    "\n",
    "minute* – сколько минут прошло с начала дня"
   ]
  },
  {
   "cell_type": "markdown",
   "id": "96fa8fda",
   "metadata": {},
   "source": [
    "**Важно:** ответ на каждый из вопросов надо предоставить в виде кода и краткого комментария к ответу"
   ]
  },
  {
   "cell_type": "code",
   "execution_count": null,
   "id": "48534b7a",
   "metadata": {},
   "outputs": [],
   "source": []
  },
  {
   "cell_type": "markdown",
   "id": "8c6f6ea3",
   "metadata": {},
   "source": [
    "### **Задание №3**\n",
    "\n",
    "Имеются следующие данные о транзакциях в период с 01.12.2010 по 12.09.2011:\n",
    "\n",
    "InvoiceNo — номер транзакции\n",
    "\n",
    "StockCode — код товара\n",
    "\n",
    "Description — описание товара\n",
    "\n",
    "Quantity — количество единиц товара, добавленных в заказ\n",
    "\n",
    "InvoiceDate — дата транзакции \n",
    "\n",
    "UnitPrice — цена за единицу товара\n",
    "\n",
    "CustomerID — id клиента\n",
    "\n",
    "Country — страна, где проживает клиент\n",
    "\n",
    "Данные можно скачать [отсюда](https://yadi.sk/d/jjaJNk2w3C9AhA).\n",
    "\n",
    "В данной задаче ссылка для считывания данных лежит в переменной path_to_file.\n",
    "\n",
    "Импортируйте пандас и прочитайте данные с кодировкой ISO-8859-1. Запишите полученный датафрейм в retail, а названия колонок сохраните в переменную retail_columns.\n",
    "\n",
    "\n",
    "**Вопросы:**\n",
    "- Проверьте, встречаются ли в данных повторяющиеся наблюдения, и в качестве ответа укажите их количество. Если они есть, то удалите их из retail и скажите сколько дупликатов было в таблице?.\n",
    "- Данные содержат в себе записи как и об успешных транзакциях, так и об отмененных. Если пользователь отменил заказ, в начале номера транзакции (InvoiceNo) ставится C (canceled). Сколько всего заказов отменили пользователи?\n",
    "- Теперь отфильтруйте данные и оставьте в retail только те заказы, где Quantity > 0. В качестве ответа укажите число оставшихся строк.\n",
    "- Посчитайте число заказов для каждого пользователя (CustomerID) из Германии (Germany). Оставьте только тех, кто совершил более N транзакций (InvoiceNo), где N – 80% процентиль. Запишите полученные id пользователей в germany_top (не весь датафрейм, только id). (Отфильтрованные данные записаны в retail. Идентификатор заказа – InvoiceNo. Для каждого заказа в данных может встречаться более 1 строки.)\n",
    "- Используя объект с id пользователей (germany_top), полученный на предыдущем шаге, отфильтруйте наблюдения и оставьте в данных записи только по интересующим нас юзерам. Результирующий датафрейм запишите в top_retail_germany. (Датафрейм записан в retail, нужные id пользователей – в germany_top.)\n",
    "- Сгруппируйте top_retail_germany по коду товара (StockCode). Какой из продуктов добавляли в корзину чаще всего, кроме POST? Note: одним заказом считается единовременная покупка любого количества товара, т.е. без учета Quantity.\n",
    "- Вернемся к анализу полного датасета retail. Создайте колонку Revenue с суммой покупки, используя колонки Quantity и UnitPrice.(Отфильтрованные данные записаны в retail.)\n",
    "- Для каждой транзакции (InvoiceNo), посчитайте финальную сумму заказа. В качестве ответа укажите топ-5 (InvoiceNo) по сумме заказа (через запятую с пробелом и в порядке убывания TotalRevenue)"
   ]
  },
  {
   "cell_type": "code",
   "execution_count": null,
   "id": "247ef9ce",
   "metadata": {},
   "outputs": [],
   "source": []
  }
 ],
 "metadata": {
  "kernelspec": {
   "display_name": "Python 3 (ipykernel)",
   "language": "python",
   "name": "python3"
  },
  "language_info": {
   "codemirror_mode": {
    "name": "ipython",
    "version": 3
   },
   "file_extension": ".py",
   "mimetype": "text/x-python",
   "name": "python",
   "nbconvert_exporter": "python",
   "pygments_lexer": "ipython3",
   "version": "3.9.13"
  }
 },
 "nbformat": 4,
 "nbformat_minor": 5
}
